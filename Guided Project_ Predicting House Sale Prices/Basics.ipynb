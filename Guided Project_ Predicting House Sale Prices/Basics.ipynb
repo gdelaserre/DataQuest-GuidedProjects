{
 "cells": [
  {
   "cell_type": "markdown",
   "metadata": {},
   "source": [
    "# Prediciting House Sales Prices"
   ]
  },
  {
   "cell_type": "code",
   "execution_count": 73,
   "metadata": {
    "collapsed": false
   },
   "outputs": [
    {
     "data": {
      "text/html": [
       "<div>\n",
       "<style scoped>\n",
       "    .dataframe tbody tr th:only-of-type {\n",
       "        vertical-align: middle;\n",
       "    }\n",
       "\n",
       "    .dataframe tbody tr th {\n",
       "        vertical-align: top;\n",
       "    }\n",
       "\n",
       "    .dataframe thead th {\n",
       "        text-align: right;\n",
       "    }\n",
       "</style>\n",
       "<table border=\"1\" class=\"dataframe\">\n",
       "  <thead>\n",
       "    <tr style=\"text-align: right;\">\n",
       "      <th></th>\n",
       "      <th>Order</th>\n",
       "      <th>PID</th>\n",
       "      <th>MS SubClass</th>\n",
       "      <th>MS Zoning</th>\n",
       "      <th>Lot Frontage</th>\n",
       "      <th>Lot Area</th>\n",
       "      <th>Street</th>\n",
       "      <th>Alley</th>\n",
       "      <th>Lot Shape</th>\n",
       "      <th>Land Contour</th>\n",
       "      <th>...</th>\n",
       "      <th>Pool Area</th>\n",
       "      <th>Pool QC</th>\n",
       "      <th>Fence</th>\n",
       "      <th>Misc Feature</th>\n",
       "      <th>Misc Val</th>\n",
       "      <th>Mo Sold</th>\n",
       "      <th>Yr Sold</th>\n",
       "      <th>Sale Type</th>\n",
       "      <th>Sale Condition</th>\n",
       "      <th>SalePrice</th>\n",
       "    </tr>\n",
       "  </thead>\n",
       "  <tbody>\n",
       "    <tr>\n",
       "      <th>0</th>\n",
       "      <td>1</td>\n",
       "      <td>526301100</td>\n",
       "      <td>20</td>\n",
       "      <td>RL</td>\n",
       "      <td>141.0</td>\n",
       "      <td>31770</td>\n",
       "      <td>Pave</td>\n",
       "      <td>NaN</td>\n",
       "      <td>IR1</td>\n",
       "      <td>Lvl</td>\n",
       "      <td>...</td>\n",
       "      <td>0</td>\n",
       "      <td>NaN</td>\n",
       "      <td>NaN</td>\n",
       "      <td>NaN</td>\n",
       "      <td>0</td>\n",
       "      <td>5</td>\n",
       "      <td>2010</td>\n",
       "      <td>WD</td>\n",
       "      <td>Normal</td>\n",
       "      <td>215000</td>\n",
       "    </tr>\n",
       "    <tr>\n",
       "      <th>1</th>\n",
       "      <td>2</td>\n",
       "      <td>526350040</td>\n",
       "      <td>20</td>\n",
       "      <td>RH</td>\n",
       "      <td>80.0</td>\n",
       "      <td>11622</td>\n",
       "      <td>Pave</td>\n",
       "      <td>NaN</td>\n",
       "      <td>Reg</td>\n",
       "      <td>Lvl</td>\n",
       "      <td>...</td>\n",
       "      <td>0</td>\n",
       "      <td>NaN</td>\n",
       "      <td>MnPrv</td>\n",
       "      <td>NaN</td>\n",
       "      <td>0</td>\n",
       "      <td>6</td>\n",
       "      <td>2010</td>\n",
       "      <td>WD</td>\n",
       "      <td>Normal</td>\n",
       "      <td>105000</td>\n",
       "    </tr>\n",
       "    <tr>\n",
       "      <th>2</th>\n",
       "      <td>3</td>\n",
       "      <td>526351010</td>\n",
       "      <td>20</td>\n",
       "      <td>RL</td>\n",
       "      <td>81.0</td>\n",
       "      <td>14267</td>\n",
       "      <td>Pave</td>\n",
       "      <td>NaN</td>\n",
       "      <td>IR1</td>\n",
       "      <td>Lvl</td>\n",
       "      <td>...</td>\n",
       "      <td>0</td>\n",
       "      <td>NaN</td>\n",
       "      <td>NaN</td>\n",
       "      <td>Gar2</td>\n",
       "      <td>12500</td>\n",
       "      <td>6</td>\n",
       "      <td>2010</td>\n",
       "      <td>WD</td>\n",
       "      <td>Normal</td>\n",
       "      <td>172000</td>\n",
       "    </tr>\n",
       "    <tr>\n",
       "      <th>3</th>\n",
       "      <td>4</td>\n",
       "      <td>526353030</td>\n",
       "      <td>20</td>\n",
       "      <td>RL</td>\n",
       "      <td>93.0</td>\n",
       "      <td>11160</td>\n",
       "      <td>Pave</td>\n",
       "      <td>NaN</td>\n",
       "      <td>Reg</td>\n",
       "      <td>Lvl</td>\n",
       "      <td>...</td>\n",
       "      <td>0</td>\n",
       "      <td>NaN</td>\n",
       "      <td>NaN</td>\n",
       "      <td>NaN</td>\n",
       "      <td>0</td>\n",
       "      <td>4</td>\n",
       "      <td>2010</td>\n",
       "      <td>WD</td>\n",
       "      <td>Normal</td>\n",
       "      <td>244000</td>\n",
       "    </tr>\n",
       "    <tr>\n",
       "      <th>4</th>\n",
       "      <td>5</td>\n",
       "      <td>527105010</td>\n",
       "      <td>60</td>\n",
       "      <td>RL</td>\n",
       "      <td>74.0</td>\n",
       "      <td>13830</td>\n",
       "      <td>Pave</td>\n",
       "      <td>NaN</td>\n",
       "      <td>IR1</td>\n",
       "      <td>Lvl</td>\n",
       "      <td>...</td>\n",
       "      <td>0</td>\n",
       "      <td>NaN</td>\n",
       "      <td>MnPrv</td>\n",
       "      <td>NaN</td>\n",
       "      <td>0</td>\n",
       "      <td>3</td>\n",
       "      <td>2010</td>\n",
       "      <td>WD</td>\n",
       "      <td>Normal</td>\n",
       "      <td>189900</td>\n",
       "    </tr>\n",
       "  </tbody>\n",
       "</table>\n",
       "<p>5 rows × 82 columns</p>\n",
       "</div>"
      ],
      "text/plain": [
       "   Order        PID  MS SubClass MS Zoning  Lot Frontage  Lot Area Street  \\\n",
       "0      1  526301100           20        RL         141.0     31770   Pave   \n",
       "1      2  526350040           20        RH          80.0     11622   Pave   \n",
       "2      3  526351010           20        RL          81.0     14267   Pave   \n",
       "3      4  526353030           20        RL          93.0     11160   Pave   \n",
       "4      5  527105010           60        RL          74.0     13830   Pave   \n",
       "\n",
       "  Alley Lot Shape Land Contour    ...     Pool Area Pool QC  Fence  \\\n",
       "0   NaN       IR1          Lvl    ...             0     NaN    NaN   \n",
       "1   NaN       Reg          Lvl    ...             0     NaN  MnPrv   \n",
       "2   NaN       IR1          Lvl    ...             0     NaN    NaN   \n",
       "3   NaN       Reg          Lvl    ...             0     NaN    NaN   \n",
       "4   NaN       IR1          Lvl    ...             0     NaN  MnPrv   \n",
       "\n",
       "  Misc Feature Misc Val Mo Sold Yr Sold Sale Type  Sale Condition  SalePrice  \n",
       "0          NaN        0       5    2010       WD           Normal     215000  \n",
       "1          NaN        0       6    2010       WD           Normal     105000  \n",
       "2         Gar2    12500       6    2010       WD           Normal     172000  \n",
       "3          NaN        0       4    2010       WD           Normal     244000  \n",
       "4          NaN        0       3    2010       WD           Normal     189900  \n",
       "\n",
       "[5 rows x 82 columns]"
      ]
     },
     "execution_count": 73,
     "metadata": {},
     "output_type": "execute_result"
    }
   ],
   "source": [
    "# import the libraries and open the files \n",
    "\n",
    "import pandas as pd\n",
    "import matplotlib.pyplot as plt\n",
    "import numpy as np\n",
    "import seaborn as sns\n",
    "from sklearn.linear_model import LinearRegression\n",
    "from sklearn.metrics import mean_squared_error\n",
    "from sklearn.model_selection import KFold\n",
    "\n",
    "houses = pd.read_csv('AmesHousing.tsv', delimiter = '\\t')\n",
    "houses.head(5)"
   ]
  },
  {
   "cell_type": "code",
   "execution_count": 74,
   "metadata": {
    "collapsed": true
   },
   "outputs": [],
   "source": [
    "# create the functions we'll need\n",
    "\n",
    "numerics = ['int16', 'int32', 'int64', 'float16', 'float32', 'float64']\n",
    "\n",
    "def transform_features(df):\n",
    "    return df\n",
    "\n",
    "def select_features(df):\n",
    "    return df[['Gr Liv Area','SalePrice']]\n",
    "\n",
    "def train_and_test(df):\n",
    "    train = df.iloc[:1460]\n",
    "    test = df.iloc[1460:]\n",
    "    numeric_df = df.select_dtypes(include=numerics)\n",
    "    features = numeric_df.columns.drop('SalePrice')\n",
    "    target = ['SalePrice']\n",
    "    lr = LinearRegression()\n",
    "    lr.fit(train[features], train[target])\n",
    "    test_predictions = lr.predict(test[features])\n",
    "    test_mse = mean_squared_error(test_predictions, test[target])\n",
    "    return np.sqrt(test_mse)"
   ]
  },
  {
   "cell_type": "code",
   "execution_count": 75,
   "metadata": {
    "collapsed": false
   },
   "outputs": [
    {
     "data": {
      "text/plain": [
       "57088.25161263909"
      ]
     },
     "execution_count": 75,
     "metadata": {},
     "output_type": "execute_result"
    }
   ],
   "source": [
    "# test functions\n",
    "transform_df = transform_features(houses)\n",
    "filtered_df = select_features(transform_df)\n",
    "rmse = train_and_test(filtered_df)\n",
    "rmse"
   ]
  },
  {
   "cell_type": "markdown",
   "metadata": {},
   "source": [
    "## Feature Engineering\n",
    "\n",
    "Handle missing values:\n",
    "\n",
    "All columns:\n",
    "* Drop any with 5% or more missing values for now.\n",
    "\n",
    "Text columns:\n",
    "* Drop any with 1 or more missing values for now.\n",
    "\n",
    "Numerical columns:\n",
    "* For columns with missing values, fill in with the most common value in that column\n",
    "\n",
    "1: All columns: Drop any with 5% or more missing values for now."
   ]
  },
  {
   "cell_type": "code",
   "execution_count": 76,
   "metadata": {
    "collapsed": false
   },
   "outputs": [],
   "source": [
    "perc_missing_values = (houses.isnull().sum()) / len(houses) * 100\n",
    "clean_values = perc_missing_values[perc_missing_values < 5]\n",
    "clean_values.sort_values(ascending = False)\n",
    "clean_df = houses[clean_values.index]"
   ]
  },
  {
   "cell_type": "markdown",
   "metadata": {},
   "source": [
    "2: Text columns: Drop any with 1 or more missing values for now."
   ]
  },
  {
   "cell_type": "code",
   "execution_count": 77,
   "metadata": {
    "collapsed": false
   },
   "outputs": [],
   "source": [
    "# select text values\n",
    "missing_text = clean_df.select_dtypes(include=['object'])\n",
    "# check number of missing text values\n",
    "missing_text_count = missing_text.isnull().sum().sort_values(ascending = False)\n",
    "# drop values where count is > 0\n",
    "missing_text_columns = missing_text_count[missing_text_count > 0].index\n",
    "clean_df = clean_df.drop(missing_text_columns, axis = 1)"
   ]
  },
  {
   "cell_type": "code",
   "execution_count": 78,
   "metadata": {
    "collapsed": false
   },
   "outputs": [
    {
     "name": "stdout",
     "output_type": "stream",
     "text": [
      "['Bsmt Cond' 'Bsmt Exposure' 'Bsmt Qual' 'BsmtFin Type 1' 'BsmtFin Type 2'\n",
      " 'Electrical' 'Mas Vnr Type']\n",
      "['1st Flr SF' '2nd Flr SF' '3Ssn Porch' 'Bedroom AbvGr' 'Bldg Type'\n",
      " 'Bsmt Full Bath' 'Bsmt Half Bath' 'Bsmt Unf SF' 'BsmtFin SF 1'\n",
      " 'BsmtFin SF 2' 'Central Air' 'Condition 1' 'Condition 2' 'Enclosed Porch'\n",
      " 'Exter Cond' 'Exter Qual' 'Exterior 1st' 'Exterior 2nd' 'Fireplaces'\n",
      " 'Foundation' 'Full Bath' 'Functional' 'Garage Area' 'Garage Cars'\n",
      " 'Gr Liv Area' 'Half Bath' 'Heating' 'Heating QC' 'House Style'\n",
      " 'Kitchen AbvGr' 'Kitchen Qual' 'Land Contour' 'Land Slope' 'Lot Area'\n",
      " 'Lot Config' 'Lot Shape' 'Low Qual Fin SF' 'MS SubClass' 'MS Zoning'\n",
      " 'Mas Vnr Area' 'Misc Val' 'Mo Sold' 'Neighborhood' 'Open Porch SF'\n",
      " 'Order' 'Overall Cond' 'Overall Qual' 'PID' 'Paved Drive' 'Pool Area'\n",
      " 'Roof Matl' 'Roof Style' 'Sale Condition' 'Sale Type' 'SalePrice'\n",
      " 'Screen Porch' 'Street' 'TotRms AbvGrd' 'Total Bsmt SF' 'Utilities'\n",
      " 'Wood Deck SF' 'Year Built' 'Year Remod/Add' 'Yr Sold']\n"
     ]
    }
   ],
   "source": [
    "# check that it worked\n",
    "print(missing_text_columns.sort_values().values)\n",
    "print(clean_df.columns.sort_values().values)"
   ]
  },
  {
   "cell_type": "markdown",
   "metadata": {},
   "source": [
    "3: Numerical columns: For columns with missing values, fill in with the most common value in that column"
   ]
  },
  {
   "cell_type": "code",
   "execution_count": 79,
   "metadata": {
    "collapsed": false
   },
   "outputs": [
    {
     "data": {
      "text/plain": [
       "0    64\n",
       "dtype: int64"
      ]
     },
     "execution_count": 79,
     "metadata": {},
     "output_type": "execute_result"
    }
   ],
   "source": [
    "# find numerical columns\n",
    "num_missing = clean_df.select_dtypes(include=numerics).isnull().sum().sort_values(ascending = False)\n",
    "\n",
    "# replace missing values in numerical columns with mode\n",
    "cols = num_missing[num_missing > 0].index\n",
    "\n",
    "for col in cols: \n",
    "    clean_df[col] = clean_df[col].fillna(clean_df[col].mode()[0])\n",
    "\n",
    "# check all missing values are gone\n",
    "clean_df.isnull().sum().value_counts()"
   ]
  },
  {
   "cell_type": "markdown",
   "metadata": {},
   "source": [
    "4: What new features can we create, that better capture the information in some of the features?"
   ]
  },
  {
   "cell_type": "code",
   "execution_count": 80,
   "metadata": {
    "collapsed": false
   },
   "outputs": [
    {
     "data": {
      "text/plain": [
       "2180   -2\n",
       "2181   -1\n",
       "1702   -1\n",
       "2467    0\n",
       "dtype: int64"
      ]
     },
     "execution_count": 80,
     "metadata": {},
     "output_type": "execute_result"
    }
   ],
   "source": [
    "# add years between sold and built but check for inconsistent data first\n",
    "years_since_remod = clean_df['Yr Sold'] - clean_df['Year Remod/Add'] \n",
    "years_since_remod.sort_values().head(4)"
   ]
  },
  {
   "cell_type": "code",
   "execution_count": 81,
   "metadata": {
    "collapsed": false
   },
   "outputs": [
    {
     "data": {
      "text/plain": [
       "2180   -1\n",
       "1798    0\n",
       "2753    0\n",
       "2752    0\n",
       "dtype: int64"
      ]
     },
     "execution_count": 81,
     "metadata": {},
     "output_type": "execute_result"
    }
   ],
   "source": [
    "years_until_sold = clean_df['Yr Sold'] - clean_df['Year Built'] \n",
    "years_until_sold.sort_values().head(4)"
   ]
  },
  {
   "cell_type": "code",
   "execution_count": 82,
   "metadata": {
    "collapsed": false
   },
   "outputs": [],
   "source": [
    "# create column but drop rows with inconsistant data \n",
    "\n",
    "clean_df['years_since_remod'] = clean_df['Yr Sold'] - clean_df['Year Remod/Add'] \n",
    "clean_df['years_until_sold']  = clean_df['Yr Sold'] - clean_df['Year Built'] \n",
    "clean_df = clean_df.drop([2180,2181,1702], axis = 0)\n",
    "\n",
    "# remove columns that are no longer needed\n",
    "clean_df = clean_df.drop([\"Year Built\", \"Year Remod/Add\"], axis = 1)"
   ]
  },
  {
   "cell_type": "markdown",
   "metadata": {},
   "source": [
    "Drop columns that:\n",
    "\n",
    "* that aren't useful for ML\n",
    "* leak data about the final sale, read more about columns [here](http://jse.amstat.org/v19n3/decock/DataDocumentation.txt)"
   ]
  },
  {
   "cell_type": "code",
   "execution_count": 83,
   "metadata": {
    "collapsed": true
   },
   "outputs": [],
   "source": [
    "# drop columns that aren't useful for ML\n",
    "clean_df = clean_df.drop([\"PID\", \"Order\"], axis=1)\n",
    "\n",
    "# drop columns that leak info about the final sale\n",
    "clean_df = clean_df.drop([\"Mo Sold\", \"Sale Condition\", \"Sale Type\", \"Yr Sold\"], axis=1)"
   ]
  },
  {
   "cell_type": "markdown",
   "metadata": {},
   "source": [
    "Now let's update the transform_features() function"
   ]
  },
  {
   "cell_type": "code",
   "execution_count": 84,
   "metadata": {
    "collapsed": false
   },
   "outputs": [
    {
     "data": {
      "text/plain": [
       "55275.36731241307"
      ]
     },
     "execution_count": 84,
     "metadata": {},
     "output_type": "execute_result"
    }
   ],
   "source": [
    "def transform_features(df):\n",
    "    # Drop any columns with 5% or more missing values\n",
    "    perc_missing_values = (df.isnull().sum()) / len(df) * 100\n",
    "    clean_values = perc_missing_values[perc_missing_values < 5]\n",
    "    df = df[clean_values.index]\n",
    "    # Drop any text columns with 1 or more missing values\n",
    "    missing_text = df.select_dtypes(include=['object'])\n",
    "    missing_text_columns = missing_text_count[missing_text_count > 0].index\n",
    "    df = df.drop(missing_text_columns, axis = 1)\n",
    "    # Fill in with the most common value in numerical columns that have missing values\n",
    "    num_missing = df.select_dtypes(include=numerics).isnull().sum()\n",
    "    cols = num_missing[num_missing > 0].index\n",
    "    for col in cols: \n",
    "        df[col] = df[col].fillna(df[col].mode()[0])\n",
    "    # add years between sold & built/remodeled & remove corrupted data and useless columns\n",
    "    df['years_since_remod'] = df['Yr Sold'] - df['Year Remod/Add'] \n",
    "    df['years_until_sold']  = df['Yr Sold'] - df['Year Built'] \n",
    "    df = df.drop([2180,2181,1702], axis = 0)\n",
    "    df = df.drop([\"Year Built\", \"Year Remod/Add\"], axis = 1)\n",
    "    # drop columns that aren't useful for ML or leak info about final sale\n",
    "    df = df.drop([\"PID\", \"Order\",\"Mo Sold\", \"Sale Condition\", \"Sale Type\", \"Yr Sold\"], axis=1)\n",
    "    return df\n",
    "\n",
    "\n",
    "def select_features(df):\n",
    "    return df[['Gr Liv Area','SalePrice']]\n",
    "\n",
    "def train_and_test(df):\n",
    "    train = df.iloc[:1460]\n",
    "    test = df.iloc[1460:]\n",
    "    numeric_df = df.select_dtypes(include=numerics)\n",
    "    features = numeric_df.columns.drop('SalePrice')\n",
    "    target = ['SalePrice']\n",
    "    lr = LinearRegression()\n",
    "    lr.fit(train[features], train[target])\n",
    "    test_predictions = lr.predict(test[features])\n",
    "    test_mse = mean_squared_error(test_predictions, test[target])\n",
    "    return np.sqrt(test_mse)\n",
    "\n",
    "transform_df = transform_features(houses)\n",
    "filtered_df = select_features(transform_df)\n",
    "rmse = train_and_test(filtered_df)\n",
    "rmse"
   ]
  },
  {
   "cell_type": "markdown",
   "metadata": {},
   "source": [
    "# Generate a correlation heatmap matrix of the numerical features in the training data set"
   ]
  },
  {
   "cell_type": "code",
   "execution_count": 85,
   "metadata": {
    "collapsed": false
   },
   "outputs": [
    {
     "data": {
      "image/png": "[encoded data removed]",
      "text/plain": [
       "<matplotlib.figure.Figure at 0x7f52370ac5f8>"
      ]
     },
     "metadata": {},
     "output_type": "display_data"
    }
   ],
   "source": [
    "%matplotlib inline\n",
    "numeric_df = transform_df.select_dtypes(include=numerics)\n",
    "corr = numeric_df.corr()\n",
    "plt.figure(figsize=(8, 12))\n",
    "heatmap = sns.heatmap(corr[['SalePrice']].sort_values(by='SalePrice', ascending=False), vmin=-1, vmax=1, annot=True, cmap='BrBG')\n",
    "heatmap.set_title('Features Correlating with Sales Price', fontdict={'fontsize':18});"
   ]
  },
  {
   "cell_type": "code",
   "execution_count": 86,
   "metadata": {
    "collapsed": false
   },
   "outputs": [],
   "source": [
    "# Let's only keep columns with a correlation coefficient of larger than 0.4\n",
    "abs_corr_coeffs = numeric_df.corr()['SalePrice'].abs().sort_values()\n",
    "transform_df = transform_df.drop(abs_corr_coeffs[abs_corr_coeffs < 0.4].index, axis = 1)"
   ]
  },
  {
   "cell_type": "markdown",
   "metadata": {},
   "source": [
    "Which categorical columns should we keep?"
   ]
  },
  {
   "cell_type": "code",
   "execution_count": 87,
   "metadata": {
    "collapsed": true
   },
   "outputs": [],
   "source": [
    "## Create a list of column names from documentation that are *meant* to be categorical\n",
    "nominal_features = [\"PID\", \"MS SubClass\", \"MS Zoning\", \"Street\", \"Alley\", \"Land Contour\", \"Lot Config\", \"Neighborhood\", \n",
    "                    \"Condition 1\", \"Condition 2\", \"Bldg Type\", \"House Style\", \"Roof Style\", \"Roof Matl\", \"Exterior 1st\", \n",
    "                    \"Exterior 2nd\", \"Mas Vnr Type\", \"Foundation\", \"Heating\", \"Central Air\", \"Garage Type\", \n",
    "                    \"Misc Feature\", \"Sale Type\", \"Sale Condition\"]"
   ]
  },
  {
   "cell_type": "markdown",
   "metadata": {},
   "source": [
    "* Which columns are currently numerical but need to be encoded as categorical instead (because the numbers don't have any semantic meaning)?\n",
    "\n",
    "* If a categorical column has hundreds of unique values (or categories), should we keep it? When we dummy code this column, hundreds of columns will need to be added back to the data frame."
   ]
  },
  {
   "cell_type": "code",
   "execution_count": 88,
   "metadata": {
    "collapsed": false
   },
   "outputs": [
    {
     "data": {
      "text/plain": [
       "['MS Zoning',\n",
       " 'Street',\n",
       " 'Land Contour',\n",
       " 'Lot Config',\n",
       " 'Neighborhood',\n",
       " 'Condition 1',\n",
       " 'Condition 2',\n",
       " 'Bldg Type',\n",
       " 'House Style',\n",
       " 'Roof Style',\n",
       " 'Roof Matl',\n",
       " 'Exterior 1st',\n",
       " 'Exterior 2nd',\n",
       " 'Foundation',\n",
       " 'Heating',\n",
       " 'Central Air']"
      ]
     },
     "execution_count": 88,
     "metadata": {},
     "output_type": "execute_result"
    }
   ],
   "source": [
    "# check which nominal features are present in transformed dataframe\n",
    "transform_cat_cols = []\n",
    "for col in nominal_features:\n",
    "    if col in transform_df.columns:\n",
    "        transform_cat_cols.append(col)\n",
    "\n",
    "transform_cat_cols"
   ]
  },
  {
   "cell_type": "code",
   "execution_count": 89,
   "metadata": {
    "collapsed": false
   },
   "outputs": [
    {
     "data": {
      "text/plain": [
       "Neighborhood    28\n",
       "Exterior 2nd    17\n",
       "Exterior 1st    16\n",
       "Condition 1      9\n",
       "Roof Matl        8\n",
       "House Style      8\n",
       "Condition 2      8\n",
       "MS Zoning        7\n",
       "Heating          6\n",
       "Foundation       6\n",
       "Roof Style       6\n",
       "Bldg Type        5\n",
       "Lot Config       5\n",
       "Land Contour     4\n",
       "Central Air      2\n",
       "Street           2\n",
       "dtype: int64"
      ]
     },
     "execution_count": 89,
     "metadata": {},
     "output_type": "execute_result"
    }
   ],
   "source": [
    "# how many unique values in each categorical column?\n",
    "cat_unique_counts = transform_df[transform_cat_cols].nunique().sort_values(ascending = False)\n",
    "cat_unique_counts"
   ]
  },
  {
   "cell_type": "code",
   "execution_count": 90,
   "metadata": {
    "collapsed": false
   },
   "outputs": [
    {
     "data": {
      "text/plain": [
       "Index(['MS Zoning', 'Street', 'Lot Shape', 'Land Contour', 'Utilities',\n",
       "       'Lot Config', 'Land Slope', 'Condition 1', 'Condition 2', 'Bldg Type',\n",
       "       'House Style', 'Overall Qual', 'Roof Style', 'Roof Matl',\n",
       "       'Mas Vnr Area', 'Exter Qual', 'Exter Cond', 'Foundation',\n",
       "       'BsmtFin SF 1', 'Total Bsmt SF', 'Heating', 'Heating QC', 'Central Air',\n",
       "       '1st Flr SF', 'Gr Liv Area', 'Full Bath', 'Kitchen Qual',\n",
       "       'TotRms AbvGrd', 'Functional', 'Fireplaces', 'Garage Cars',\n",
       "       'Garage Area', 'Paved Drive', 'SalePrice', 'years_since_remod',\n",
       "       'years_until_sold'],\n",
       "      dtype='object')"
      ]
     },
     "execution_count": 90,
     "metadata": {},
     "output_type": "execute_result"
    }
   ],
   "source": [
    "# arbitrary cutoff of 10 unique values (to be able to check against solution)\n",
    "cat_unique_counts_above_10 = cat_unique_counts[cat_unique_counts > 10]\n",
    "transform_df = transform_df.drop(cat_unique_counts_above_10.index, axis = 1)\n",
    "transform_df.columns"
   ]
  },
  {
   "cell_type": "code",
   "execution_count": 91,
   "metadata": {
    "collapsed": false
   },
   "outputs": [
    {
     "data": {
      "text/html": [
       "<div>\n",
       "<style scoped>\n",
       "    .dataframe tbody tr th:only-of-type {\n",
       "        vertical-align: middle;\n",
       "    }\n",
       "\n",
       "    .dataframe tbody tr th {\n",
       "        vertical-align: top;\n",
       "    }\n",
       "\n",
       "    .dataframe thead th {\n",
       "        text-align: right;\n",
       "    }\n",
       "</style>\n",
       "<table border=\"1\" class=\"dataframe\">\n",
       "  <thead>\n",
       "    <tr style=\"text-align: right;\">\n",
       "      <th></th>\n",
       "      <th>Overall Qual</th>\n",
       "      <th>Mas Vnr Area</th>\n",
       "      <th>BsmtFin SF 1</th>\n",
       "      <th>Total Bsmt SF</th>\n",
       "      <th>1st Flr SF</th>\n",
       "      <th>Gr Liv Area</th>\n",
       "      <th>Full Bath</th>\n",
       "      <th>TotRms AbvGrd</th>\n",
       "      <th>Fireplaces</th>\n",
       "      <th>Garage Cars</th>\n",
       "      <th>...</th>\n",
       "      <th>Maj2</th>\n",
       "      <th>Min1</th>\n",
       "      <th>Min2</th>\n",
       "      <th>Mod</th>\n",
       "      <th>Sal</th>\n",
       "      <th>Sev</th>\n",
       "      <th>Typ</th>\n",
       "      <th>N</th>\n",
       "      <th>P</th>\n",
       "      <th>Y</th>\n",
       "    </tr>\n",
       "  </thead>\n",
       "  <tbody>\n",
       "    <tr>\n",
       "      <th>0</th>\n",
       "      <td>6</td>\n",
       "      <td>112.0</td>\n",
       "      <td>639.0</td>\n",
       "      <td>1080.0</td>\n",
       "      <td>1656</td>\n",
       "      <td>1656</td>\n",
       "      <td>1</td>\n",
       "      <td>7</td>\n",
       "      <td>2</td>\n",
       "      <td>2.0</td>\n",
       "      <td>...</td>\n",
       "      <td>0</td>\n",
       "      <td>0</td>\n",
       "      <td>0</td>\n",
       "      <td>0</td>\n",
       "      <td>0</td>\n",
       "      <td>0</td>\n",
       "      <td>1</td>\n",
       "      <td>0</td>\n",
       "      <td>1</td>\n",
       "      <td>0</td>\n",
       "    </tr>\n",
       "    <tr>\n",
       "      <th>1</th>\n",
       "      <td>5</td>\n",
       "      <td>0.0</td>\n",
       "      <td>468.0</td>\n",
       "      <td>882.0</td>\n",
       "      <td>896</td>\n",
       "      <td>896</td>\n",
       "      <td>1</td>\n",
       "      <td>5</td>\n",
       "      <td>0</td>\n",
       "      <td>1.0</td>\n",
       "      <td>...</td>\n",
       "      <td>0</td>\n",
       "      <td>0</td>\n",
       "      <td>0</td>\n",
       "      <td>0</td>\n",
       "      <td>0</td>\n",
       "      <td>0</td>\n",
       "      <td>1</td>\n",
       "      <td>0</td>\n",
       "      <td>0</td>\n",
       "      <td>1</td>\n",
       "    </tr>\n",
       "    <tr>\n",
       "      <th>2</th>\n",
       "      <td>6</td>\n",
       "      <td>108.0</td>\n",
       "      <td>923.0</td>\n",
       "      <td>1329.0</td>\n",
       "      <td>1329</td>\n",
       "      <td>1329</td>\n",
       "      <td>1</td>\n",
       "      <td>6</td>\n",
       "      <td>0</td>\n",
       "      <td>1.0</td>\n",
       "      <td>...</td>\n",
       "      <td>0</td>\n",
       "      <td>0</td>\n",
       "      <td>0</td>\n",
       "      <td>0</td>\n",
       "      <td>0</td>\n",
       "      <td>0</td>\n",
       "      <td>1</td>\n",
       "      <td>0</td>\n",
       "      <td>0</td>\n",
       "      <td>1</td>\n",
       "    </tr>\n",
       "    <tr>\n",
       "      <th>3</th>\n",
       "      <td>7</td>\n",
       "      <td>0.0</td>\n",
       "      <td>1065.0</td>\n",
       "      <td>2110.0</td>\n",
       "      <td>2110</td>\n",
       "      <td>2110</td>\n",
       "      <td>2</td>\n",
       "      <td>8</td>\n",
       "      <td>2</td>\n",
       "      <td>2.0</td>\n",
       "      <td>...</td>\n",
       "      <td>0</td>\n",
       "      <td>0</td>\n",
       "      <td>0</td>\n",
       "      <td>0</td>\n",
       "      <td>0</td>\n",
       "      <td>0</td>\n",
       "      <td>1</td>\n",
       "      <td>0</td>\n",
       "      <td>0</td>\n",
       "      <td>1</td>\n",
       "    </tr>\n",
       "    <tr>\n",
       "      <th>4</th>\n",
       "      <td>5</td>\n",
       "      <td>0.0</td>\n",
       "      <td>791.0</td>\n",
       "      <td>928.0</td>\n",
       "      <td>928</td>\n",
       "      <td>1629</td>\n",
       "      <td>2</td>\n",
       "      <td>6</td>\n",
       "      <td>1</td>\n",
       "      <td>2.0</td>\n",
       "      <td>...</td>\n",
       "      <td>0</td>\n",
       "      <td>0</td>\n",
       "      <td>0</td>\n",
       "      <td>0</td>\n",
       "      <td>0</td>\n",
       "      <td>0</td>\n",
       "      <td>1</td>\n",
       "      <td>0</td>\n",
       "      <td>0</td>\n",
       "      <td>1</td>\n",
       "    </tr>\n",
       "  </tbody>\n",
       "</table>\n",
       "<p>5 rows × 130 columns</p>\n",
       "</div>"
      ],
      "text/plain": [
       "   Overall Qual  Mas Vnr Area  BsmtFin SF 1  Total Bsmt SF  1st Flr SF  \\\n",
       "0             6         112.0         639.0         1080.0        1656   \n",
       "1             5           0.0         468.0          882.0         896   \n",
       "2             6         108.0         923.0         1329.0        1329   \n",
       "3             7           0.0        1065.0         2110.0        2110   \n",
       "4             5           0.0         791.0          928.0         928   \n",
       "\n",
       "   Gr Liv Area  Full Bath  TotRms AbvGrd  Fireplaces  Garage Cars ...  Maj2  \\\n",
       "0         1656          1              7           2          2.0 ...     0   \n",
       "1          896          1              5           0          1.0 ...     0   \n",
       "2         1329          1              6           0          1.0 ...     0   \n",
       "3         2110          2              8           2          2.0 ...     0   \n",
       "4         1629          2              6           1          2.0 ...     0   \n",
       "\n",
       "   Min1  Min2  Mod  Sal  Sev  Typ  N  P  Y  \n",
       "0     0     0    0    0    0    1  0  1  0  \n",
       "1     0     0    0    0    0    1  0  0  1  \n",
       "2     0     0    0    0    0    1  0  0  1  \n",
       "3     0     0    0    0    0    1  0  0  1  \n",
       "4     0     0    0    0    0    1  0  0  1  \n",
       "\n",
       "[5 rows x 130 columns]"
      ]
     },
     "execution_count": 91,
     "metadata": {},
     "output_type": "execute_result"
    }
   ],
   "source": [
    "# select just the remaining text columns and convert to categorical\n",
    "\n",
    "text_cols = transform_df.select_dtypes(include=['object'])\n",
    "for col in text_cols:\n",
    "    transform_df[col] = transform_df[col].astype('category')\n",
    "    dummies = pd.get_dummies(transform_df[col])\n",
    "    transform_df = pd.concat([transform_df, dummies], axis = 1)\n",
    "    transform_df = transform_df.drop(col, axis = 1)\n",
    "\n",
    "transform_df.head(5)"
   ]
  },
  {
   "cell_type": "code",
   "execution_count": 108,
   "metadata": {
    "collapsed": false
   },
   "outputs": [
    {
     "name": "stdout",
     "output_type": "stream",
     "text": [
      "[30539.7392177168, 32762.941628046647, 29720.06632155188, 33670.314251408265, 35078.207193115806, 28587.148562324746, 28827.74092925013, 26820.406761042705, 50704.24512886942, 32026.798189401496]\n"
     ]
    },
    {
     "data": {
      "text/plain": [
       "32873.76081827279"
      ]
     },
     "execution_count": 108,
     "metadata": {},
     "output_type": "execute_result"
    }
   ],
   "source": [
    "# update select_features()\n",
    "\n",
    "def transform_features(df):\n",
    "    # Drop any columns with 5% or more missing values\n",
    "    perc_missing_values = (df.isnull().sum()) / len(df) * 100\n",
    "    clean_values = perc_missing_values[perc_missing_values < 5]\n",
    "    df = df[clean_values.index]\n",
    "    # Drop any text columns with 1 or more missing values\n",
    "    missing_text = df.select_dtypes(include=['object'])\n",
    "    missing_text_columns = missing_text_count[missing_text_count > 0].index\n",
    "    df = df.drop(missing_text_columns, axis = 1)\n",
    "    # Fill in with the most common value in numerical columns that have missing values\n",
    "    num_missing = df.select_dtypes(include=numerics).isnull().sum()\n",
    "    cols = num_missing[num_missing > 0].index\n",
    "    for col in cols: \n",
    "        df[col] = df[col].fillna(df[col].mode()[0])\n",
    "    # add years between sold & built/remodeled & remove corrupted data and useless columns\n",
    "    df['years_since_remod'] = df['Yr Sold'] - df['Year Remod/Add'] \n",
    "    df['years_until_sold']  = df['Yr Sold'] - df['Year Built'] \n",
    "    df = df.drop([2180,2181,1702], axis = 0)\n",
    "    df = df.drop([\"Year Built\", \"Year Remod/Add\"], axis = 1)\n",
    "    # drop columns that aren't useful for ML or leak info about final sale\n",
    "    df = df.drop([\"PID\", \"Order\",\"Mo Sold\", \"Sale Condition\", \"Sale Type\", \"Yr Sold\"], axis=1)\n",
    "    return df\n",
    "\n",
    "def select_features(df, coeff_threshold=0.4, uniq_threshold=10):\n",
    "    # generate a correlation matrics for numeric values\n",
    "    numeric_df = df.select_dtypes(include=numerics)\n",
    "    corr = numeric_df.corr()\n",
    "    abs_corr_coeffs = numeric_df.corr()['SalePrice'].abs().sort_values()\n",
    "    # drop columns with a correlation inferior to the threshold\n",
    "    df = df.drop(abs_corr_coeffs[abs_corr_coeffs < coeff_threshold].index, axis = 1)\n",
    "    \n",
    "    # convert select nominal features to categories with dummy variables\n",
    "    nominal_features = [\"PID\", \"MS SubClass\", \"MS Zoning\", \"Street\", \"Alley\", \"Land Contour\", \"Lot Config\", \"Neighborhood\", \n",
    "                    \"Condition 1\", \"Condition 2\", \"Bldg Type\", \"House Style\", \"Roof Style\", \"Roof Matl\", \"Exterior 1st\", \n",
    "                    \"Exterior 2nd\", \"Mas Vnr Type\", \"Foundation\", \"Heating\", \"Central Air\", \"Garage Type\", \n",
    "                    \"Misc Feature\", \"Sale Type\", \"Sale Condition\"]\n",
    "    cat_cols = []\n",
    "    for col in nominal_features:\n",
    "        if col in df.columns:\n",
    "            cat_cols.append(col)\n",
    "    cat_unique_counts = df[cat_cols].nunique()\n",
    "    cat_unique_counts_above_10 = cat_unique_counts[cat_unique_counts > uniq_threshold]\n",
    "    df = df.drop(cat_unique_counts_above_10.index, axis = 1)\n",
    "    text_cols = df.select_dtypes(include=['object'])\n",
    "    for col in text_cols:\n",
    "        df[col] = df[col].astype('category')\n",
    "        dummies = pd.get_dummies(df[col])\n",
    "        df = pd.concat([df, dummies], axis = 1)\n",
    "        df = df.drop(col, axis = 1)\n",
    "    return df\n",
    "\n",
    "def train_and_test(df, k=0):\n",
    "    numeric_df = df.select_dtypes(include=numerics)\n",
    "    features = numeric_df.columns.drop('SalePrice')\n",
    "    target = ['SalePrice']\n",
    "    lr = LinearRegression()\n",
    "    # perform hold out validation if k is equal to 0\n",
    "    if k == 0:\n",
    "        # split the df in train and test data sets\n",
    "        train = df.iloc[:1460]\n",
    "        test = df.iloc[1460:]\n",
    "        # train the model on train data set\n",
    "        lr.fit(train[features], train[target])\n",
    "        # test predictions on test data set\n",
    "        test_predictions = lr.predict(test[features])\n",
    "        # measure error between predictions and observations\n",
    "        test_mse = mean_squared_error(test_predictions, test[target])\n",
    "        rmse = np.sqrt(test_mse)\n",
    "        return rmse\n",
    "    \n",
    "    # perform 2 fold cross validation if k is equal to 1\n",
    "    if k == 1:\n",
    "        # shuffle the ordering of rows in the df\n",
    "        shuffled_df = df.sample(frac=1)\n",
    "        \n",
    "        # split the df in two folds\n",
    "        fold_one = df.iloc[:1460]\n",
    "        fold_two = df.iloc[1460:]\n",
    "        \n",
    "        # train on fold one and test on fold two\n",
    "        lr.fit(fold_one[features], fold_one[target])\n",
    "        fold_one_predictions = lr.predict(fold_two[features])\n",
    "        fold_one_mse = mean_squared_error(fold_one_predictions, fold_two[target])\n",
    "        fold_one_rmse = np.sqrt(fold_one_mse)\n",
    "        \n",
    "        # train on fold two and test on fold one\n",
    "        lr.fit(fold_two[features], fold_two[target])\n",
    "        fold_two_predictions = lr.predict(fold_one[features])\n",
    "        fold_two_mse = mean_squared_error(fold_two_predictions, fold_one[target])\n",
    "        fold_two_rmse = np.sqrt(fold_two_mse)\n",
    "        \n",
    "        # print the 2 rmses and average them\n",
    "        avg_rmse = np.mean([fold_one_rmse, fold_two_rmse])\n",
    "        print(fold_one_rmse)\n",
    "        print(fold_two_rmse)\n",
    "        return avg_rmse\n",
    "        \n",
    "    # perform k-fold cross validation if k is not equal to 1 or 0\n",
    "    elif k > 1:\n",
    "        # split the df in K folds\n",
    "        kf = KFold(n_splits=k, shuffle=True)\n",
    "        rmse_values = []\n",
    "        # for each fold train the data on K-1 number of folds and test on 1 fold \n",
    "        for train_index, test_index in kf.split(df):\n",
    "            train = df.iloc[train_index]\n",
    "            test = df.iloc[test_index]\n",
    "            # train on K-1 folds\n",
    "            lr.fit(train[features], train[target])\n",
    "            # test on remaining fold\n",
    "            test_predictions = lr.predict(test[features])\n",
    "            test_mse = mean_squared_error(test_predictions, test[target])\n",
    "            rmse = np.sqrt(test_mse)\n",
    "            rmse_values.append(rmse)\n",
    "        # print and average each rmse\n",
    "        print(rmse_values)\n",
    "        avg_rmse = np.mean(rmse_values)\n",
    "        return avg_rmse\n",
    "    else:\n",
    "        print(\"Error: enter a positive k value\")\n",
    "        \n",
    "\n",
    "transform_df = transform_features(houses)\n",
    "filtered_df = select_features(transform_df)\n",
    "rmse = train_and_test(filtered_df, k = 10)\n",
    "rmse"
   ]
  }
 ],
 "metadata": {
  "anaconda-cloud": {},
  "kernelspec": {
   "display_name": "Python 3",
   "language": "python",
   "name": "python3"
  },
  "language_info": {
   "codemirror_mode": {
    "name": "ipython",
    "version": 3
   },
   "file_extension": ".py",
   "mimetype": "text/x-python",
   "name": "python",
   "nbconvert_exporter": "python",
   "pygments_lexer": "ipython3",
   "version": "3.4.3"
  }
 },
 "nbformat": 4,
 "nbformat_minor": 2
}
